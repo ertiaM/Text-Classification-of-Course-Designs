{
 "cells": [
  {
   "cell_type": "code",
   "execution_count": 1,
   "metadata": {
    "_cell_guid": "b1076dfc-b9ad-4769-8c92-a6c4dae69d19",
    "_uuid": "8f2839f25d086af736a60e9eeb907d3b93b6e0e5",
    "execution": {
     "iopub.execute_input": "2022-06-02T02:23:59.444594Z",
     "iopub.status.busy": "2022-06-02T02:23:59.444305Z",
     "iopub.status.idle": "2022-06-02T02:23:59.450219Z",
     "shell.execute_reply": "2022-06-02T02:23:59.449105Z",
     "shell.execute_reply.started": "2022-06-02T02:23:59.444551Z"
    },
    "trusted": true
   },
   "outputs": [],
   "source": [
    "import torch\n",
    "import torch.nn as nn\n",
    "import torch.optim as optim\n",
    "import spacy\n",
    "from torchtext.legacy.data import Field, TabularDataset, BucketIterator\n",
    "from tqdm import tqdm\n",
    "import pandas as pd\n",
    "from sklearn.metrics import f1_score, confusion_matrix, accuracy_score, ConfusionMatrixDisplay\n",
    "from tqdm import tqdm\n",
    "import matplotlib.pyplot as plt"
   ]
  },
  {
   "cell_type": "code",
   "execution_count": 2,
   "metadata": {
    "execution": {
     "iopub.execute_input": "2022-06-02T01:16:18.226575Z",
     "iopub.status.busy": "2022-06-02T01:16:18.226309Z",
     "iopub.status.idle": "2022-06-02T01:16:47.217712Z",
     "shell.execute_reply": "2022-06-02T01:16:47.216762Z",
     "shell.execute_reply.started": "2022-06-02T01:16:18.226538Z"
    },
    "trusted": true
   },
   "outputs": [
    {
     "name": "stdout",
     "output_type": "stream",
     "text": [
      "Collecting https://github.com/explosion/spacy-models/releases/download/en_core_web_sm-2.0.0/en_core_web_sm-2.0.0.tar.gz\r\n",
      "  Downloading https://github.com/explosion/spacy-models/releases/download/en_core_web_sm-2.0.0/en_core_web_sm-2.0.0.tar.gz (37.4 MB)\r\n",
      "     |████████████████████████████████| 37.4 MB 9.6 MB/s             \r\n",
      "\u001b[?25h  Preparing metadata (setup.py) ... \u001b[?25l-\b \bdone\r\n",
      "\u001b[?25hRequirement already satisfied: spacy>=2.0.0a18 in /home/agent006/Downloads/fcn-pytorch/venv/lib/python3.6/site-packages (from en-core-web-sm==2.0.0) (2.0.0)\r\n",
      "Requirement already satisfied: plac<1.0.0,>=0.9.6 in /home/agent006/Downloads/fcn-pytorch/venv/lib/python3.6/site-packages (from spacy>=2.0.0a18->en-core-web-sm==2.0.0) (0.9.6)\r\n",
      "Requirement already satisfied: six in /home/agent006/Downloads/fcn-pytorch/venv/lib/python3.6/site-packages (from spacy>=2.0.0a18->en-core-web-sm==2.0.0) (1.16.0)\r\n",
      "Requirement already satisfied: msgpack-numpy in /home/agent006/Downloads/fcn-pytorch/venv/lib/python3.6/site-packages (from spacy>=2.0.0a18->en-core-web-sm==2.0.0) (0.4.7.1)\r\n",
      "Requirement already satisfied: ujson>=1.35 in /home/agent006/Downloads/fcn-pytorch/venv/lib/python3.6/site-packages (from spacy>=2.0.0a18->en-core-web-sm==2.0.0) (4.3.0)\r\n",
      "Requirement already satisfied: dill<0.3,>=0.2 in /home/agent006/Downloads/fcn-pytorch/venv/lib/python3.6/site-packages (from spacy>=2.0.0a18->en-core-web-sm==2.0.0) (0.2.9)\r\n",
      "Requirement already satisfied: numpy>=1.7 in /home/agent006/Downloads/fcn-pytorch/venv/lib/python3.6/site-packages (from spacy>=2.0.0a18->en-core-web-sm==2.0.0) (1.19.5)\r\n",
      "Requirement already satisfied: pathlib in /home/agent006/Downloads/fcn-pytorch/venv/lib/python3.6/site-packages (from spacy>=2.0.0a18->en-core-web-sm==2.0.0) (1.0.1)\r\n",
      "Requirement already satisfied: requests<3.0.0,>=2.13.0 in /home/agent006/Downloads/fcn-pytorch/venv/lib/python3.6/site-packages (from spacy>=2.0.0a18->en-core-web-sm==2.0.0) (2.27.1)\r\n",
      "Requirement already satisfied: murmurhash<0.29,>=0.28 in /home/agent006/Downloads/fcn-pytorch/venv/lib/python3.6/site-packages (from spacy>=2.0.0a18->en-core-web-sm==2.0.0) (0.28.0)\r\n",
      "Requirement already satisfied: cymem<1.32,>=1.30 in /home/agent006/Downloads/fcn-pytorch/venv/lib/python3.6/site-packages (from spacy>=2.0.0a18->en-core-web-sm==2.0.0) (1.31.2)\r\n",
      "Requirement already satisfied: ftfy<5.0.0,>=4.4.2 in /home/agent006/Downloads/fcn-pytorch/venv/lib/python3.6/site-packages (from spacy>=2.0.0a18->en-core-web-sm==2.0.0) (4.4.3)\r\n",
      "Requirement already satisfied: msgpack-python in /home/agent006/Downloads/fcn-pytorch/venv/lib/python3.6/site-packages (from spacy>=2.0.0a18->en-core-web-sm==2.0.0) (0.5.6)\r\n",
      "Requirement already satisfied: preshed<2.0.0,>=1.0.0 in /home/agent006/Downloads/fcn-pytorch/venv/lib/python3.6/site-packages (from spacy>=2.0.0a18->en-core-web-sm==2.0.0) (1.0.1)\r\n",
      "Requirement already satisfied: regex==2017.4.5 in /home/agent006/Downloads/fcn-pytorch/venv/lib/python3.6/site-packages (from spacy>=2.0.0a18->en-core-web-sm==2.0.0) (2017.4.5)\r\n",
      "Requirement already satisfied: thinc<6.11.0,>=6.10.0 in /home/agent006/Downloads/fcn-pytorch/venv/lib/python3.6/site-packages (from spacy>=2.0.0a18->en-core-web-sm==2.0.0) (6.10.3)\r\n",
      "Requirement already satisfied: html5lib in /home/agent006/Downloads/fcn-pytorch/venv/lib/python3.6/site-packages (from ftfy<5.0.0,>=4.4.2->spacy>=2.0.0a18->en-core-web-sm==2.0.0) (1.1)\r\n",
      "Requirement already satisfied: wcwidth in /home/agent006/Downloads/fcn-pytorch/venv/lib/python3.6/site-packages (from ftfy<5.0.0,>=4.4.2->spacy>=2.0.0a18->en-core-web-sm==2.0.0) (0.2.5)\r\n",
      "Requirement already satisfied: idna<4,>=2.5 in /home/agent006/Downloads/fcn-pytorch/venv/lib/python3.6/site-packages (from requests<3.0.0,>=2.13.0->spacy>=2.0.0a18->en-core-web-sm==2.0.0) (3.3)\r\n",
      "Requirement already satisfied: urllib3<1.27,>=1.21.1 in /home/agent006/Downloads/fcn-pytorch/venv/lib/python3.6/site-packages (from requests<3.0.0,>=2.13.0->spacy>=2.0.0a18->en-core-web-sm==2.0.0) (1.26.9)\r\n",
      "Requirement already satisfied: charset-normalizer~=2.0.0 in /home/agent006/Downloads/fcn-pytorch/venv/lib/python3.6/site-packages (from requests<3.0.0,>=2.13.0->spacy>=2.0.0a18->en-core-web-sm==2.0.0) (2.0.12)\r\n",
      "Requirement already satisfied: certifi>=2017.4.17 in /home/agent006/Downloads/fcn-pytorch/venv/lib/python3.6/site-packages (from requests<3.0.0,>=2.13.0->spacy>=2.0.0a18->en-core-web-sm==2.0.0) (2021.10.8)\r\n",
      "Requirement already satisfied: wrapt<1.11.0,>=1.10.0 in /home/agent006/Downloads/fcn-pytorch/venv/lib/python3.6/site-packages (from thinc<6.11.0,>=6.10.0->spacy>=2.0.0a18->en-core-web-sm==2.0.0) (1.10.11)\r\n",
      "Requirement already satisfied: msgpack<1.0.0,>=0.5.6 in /home/agent006/Downloads/fcn-pytorch/venv/lib/python3.6/site-packages (from thinc<6.11.0,>=6.10.0->spacy>=2.0.0a18->en-core-web-sm==2.0.0) (0.6.2)\r\n",
      "Requirement already satisfied: tqdm<5.0.0,>=4.10.0 in /home/agent006/Downloads/fcn-pytorch/venv/lib/python3.6/site-packages (from thinc<6.11.0,>=6.10.0->spacy>=2.0.0a18->en-core-web-sm==2.0.0) (4.63.1)\r\n",
      "Requirement already satisfied: cytoolz<0.10,>=0.9.0 in /home/agent006/Downloads/fcn-pytorch/venv/lib/python3.6/site-packages (from thinc<6.11.0,>=6.10.0->spacy>=2.0.0a18->en-core-web-sm==2.0.0) (0.9.0.1)\r\n",
      "Requirement already satisfied: toolz>=0.8.0 in /home/agent006/Downloads/fcn-pytorch/venv/lib/python3.6/site-packages (from cytoolz<0.10,>=0.9.0->thinc<6.11.0,>=6.10.0->spacy>=2.0.0a18->en-core-web-sm==2.0.0) (0.11.2)\r\n",
      "Requirement already satisfied: importlib-resources in /home/agent006/Downloads/fcn-pytorch/venv/lib/python3.6/site-packages (from tqdm<5.0.0,>=4.10.0->thinc<6.11.0,>=6.10.0->spacy>=2.0.0a18->en-core-web-sm==2.0.0) (5.4.0)\r\n",
      "Requirement already satisfied: webencodings in /home/agent006/Downloads/fcn-pytorch/venv/lib/python3.6/site-packages (from html5lib->ftfy<5.0.0,>=4.4.2->spacy>=2.0.0a18->en-core-web-sm==2.0.0) (0.5.1)\r\n",
      "Requirement already satisfied: zipp>=3.1.0 in /home/agent006/Downloads/fcn-pytorch/venv/lib/python3.6/site-packages (from importlib-resources->tqdm<5.0.0,>=4.10.0->thinc<6.11.0,>=6.10.0->spacy>=2.0.0a18->en-core-web-sm==2.0.0) (3.6.0)\r\n",
      "\r\n",
      "\u001b[93m    Linking successful\u001b[0m\r\n",
      "    /home/agent006/Downloads/fcn-pytorch/venv/lib/python3.6/site-packages/en_core_web_sm\r\n",
      "    -->\r\n",
      "    /home/agent006/Downloads/fcn-pytorch/venv/lib/python3.6/site-packages/spacy/data/en\r\n",
      "\r\n",
      "    You can now load the model via spacy.load('en')\r\n",
      "\r\n"
     ]
    }
   ],
   "source": [
    "!python -m spacy download en"
   ]
  },
  {
   "cell_type": "markdown",
   "metadata": {},
   "source": [
    "## Tokenizer"
   ]
  },
  {
   "cell_type": "code",
   "execution_count": 3,
   "metadata": {
    "execution": {
     "iopub.execute_input": "2022-06-02T01:16:47.221071Z",
     "iopub.status.busy": "2022-06-02T01:16:47.220600Z",
     "iopub.status.idle": "2022-06-02T01:16:48.036830Z",
     "shell.execute_reply": "2022-06-02T01:16:48.036009Z",
     "shell.execute_reply.started": "2022-06-02T01:16:47.221029Z"
    },
    "trusted": true
   },
   "outputs": [],
   "source": [
    "spacy_eng = spacy.load(\"en_core_web_sm\")\n",
    "def tokenize_eng(text):\n",
    "    return [tok.text for tok in spacy_eng.tokenizer(text)]"
   ]
  },
  {
   "cell_type": "markdown",
   "metadata": {},
   "source": [
    "## Split Dataset into Train and Test splits"
   ]
  },
  {
   "cell_type": "code",
   "execution_count": 4,
   "metadata": {},
   "outputs": [],
   "source": [
    "from numpy.random import RandomState\n",
    "\n",
    "df = pd.read_csv('lyric.csv')\n",
    "df['artist'] = df['artist'].astype('category')\n",
    "idx_to_cat = dict(enumerate(df['artist'].cat.categories))\n",
    "cat_columns = df.select_dtypes(['category']).columns\n",
    "df[cat_columns] = df[cat_columns].apply(lambda x: x.cat.codes)\n",
    "\n",
    "rng = RandomState()\n",
    "tr = df.sample(frac=0.7, random_state=rng)\n",
    "tst = df.loc[~df.index.isin(tr.index)]\n",
    "tr.to_csv('train.csv', index=False)\n",
    "tst.to_csv('valid.csv', index=False)"
   ]
  },
  {
   "cell_type": "markdown",
   "metadata": {},
   "source": [
    "# Train and Test iterators"
   ]
  },
  {
   "cell_type": "code",
   "execution_count": 5,
   "metadata": {
    "execution": {
     "iopub.execute_input": "2022-06-02T01:16:48.374796Z",
     "iopub.status.busy": "2022-06-02T01:16:48.374549Z",
     "iopub.status.idle": "2022-06-02T01:16:51.933697Z",
     "shell.execute_reply": "2022-06-02T01:16:51.932978Z",
     "shell.execute_reply.started": "2022-06-02T01:16:48.374762Z"
    },
    "trusted": true
   },
   "outputs": [],
   "source": [
    "lyric = Field(sequential=True, use_vocab=True, tokenize=tokenize_eng, lower=True, init_token=\"<sos>\", eos_token=\"<eos>\")\n",
    "artist = Field(sequential=False, use_vocab=False)\n",
    "\n",
    "fields = {\"text\": (\"lyric\", lyric), \"artist\": (\"artist\", artist)}\n",
    "\n",
    "train_data, test_data = TabularDataset.splits(\n",
    "    path=\"./\",\n",
    "    train=\"train.csv\", test=\"valid.csv\",\n",
    "    format=\"csv\", fields=fields\n",
    ")\n",
    "\n",
    "lyric.build_vocab(train_data, max_size=10000, min_freq=2)"
   ]
  },
  {
   "cell_type": "code",
   "execution_count": 6,
   "metadata": {
    "execution": {
     "iopub.execute_input": "2022-06-02T01:16:51.935381Z",
     "iopub.status.busy": "2022-06-02T01:16:51.935142Z",
     "iopub.status.idle": "2022-06-02T01:16:51.942503Z",
     "shell.execute_reply": "2022-06-02T01:16:51.941670Z",
     "shell.execute_reply.started": "2022-06-02T01:16:51.935348Z"
    },
    "trusted": true
   },
   "outputs": [],
   "source": [
    "device = torch.device(\"cpu\")\n",
    "batch_size = 8\n",
    "\n",
    "train_iterator, test_iterator = BucketIterator.splits(\n",
    "    (train_data, test_data), batch_size=batch_size, device=device, sort=False\n",
    ")"
   ]
  },
  {
   "cell_type": "markdown",
   "metadata": {},
   "source": [
    "## Transformer Model"
   ]
  },
  {
   "cell_type": "code",
   "execution_count": 7,
   "metadata": {
    "execution": {
     "iopub.execute_input": "2022-06-02T01:16:51.954728Z",
     "iopub.status.busy": "2022-06-02T01:16:51.954297Z",
     "iopub.status.idle": "2022-06-02T01:16:51.971130Z",
     "shell.execute_reply": "2022-06-02T01:16:51.970287Z",
     "shell.execute_reply.started": "2022-06-02T01:16:51.954688Z"
    },
    "trusted": true
   },
   "outputs": [],
   "source": [
    "class Transformer(nn.Module):\n",
    "    def __init__(\n",
    "        self,\n",
    "        embedding_size,\n",
    "        src_vocab_size,\n",
    "        num_heads,\n",
    "        num_encoder_layers,\n",
    "        forward_dim,\n",
    "        dropout,\n",
    "        max_len,\n",
    "        num_classes,\n",
    "        device,\n",
    "    ):\n",
    "        super(Transformer, self).__init__()\n",
    "        \n",
    "        self.embedding = nn.Embedding(src_vocab_size, embedding_size).to(device)\n",
    "        self.pos_embedding = nn.Embedding(max_len+1, embedding_size).to(device)\n",
    "        \n",
    "        cls_token_weights = torch.randn(1, 1, embedding_size).to(device)\n",
    "        self.cls_token = nn.Parameter(cls_token_weights).to(device)\n",
    "        \n",
    "        self.device = device\n",
    "        self.transformer_enc_layer = nn.TransformerEncoderLayer(embedding_size, num_heads, forward_dim, dropout).to(device)\n",
    "        self.transformer_enc = nn.TransformerEncoder(self.transformer_enc_layer, num_encoder_layers).to(device)\n",
    "\n",
    "        self.fc_clf = nn.Sequential(\n",
    "            nn.Linear(embedding_size, embedding_size),\n",
    "            nn.SiLU(),\n",
    "            nn.Dropout(dropout),\n",
    "            nn.Linear(embedding_size, embedding_size),\n",
    "            nn.SiLU(),\n",
    "            nn.Dropout(dropout),\n",
    "            nn.Linear(embedding_size, num_classes),\n",
    "        ).to(device)\n",
    "        \n",
    "        \n",
    "        self.dropout = nn.Dropout(dropout)\n",
    "        \n",
    "    def forward(self, src):\n",
    "        seq_length, N = src.shape\n",
    "        \n",
    "        src_positions = torch.arange(0, seq_length+1).unsqueeze(1).expand(seq_length+1, N).to(self.device)\n",
    "        \n",
    "        embed = self.embedding(src).to(self.device)\n",
    "        cls_token_batch = self.cls_token.repeat(1, N, 1).to(self.device)\n",
    "        embed = torch.cat((cls_token_batch, embed), 0).to(self.device)\n",
    "        embed_src = self.dropout(embed + self.pos_embedding(src_positions)).to(self.device)\n",
    "        \n",
    "        out = self.transformer_enc(embed_src).to(self.device)\n",
    "        cls_tokens = out[0, :, :].to(self.device)\n",
    "        out = self.fc_clf(cls_tokens).to(self.device)\n",
    "        return out"
   ]
  },
  {
   "cell_type": "markdown",
   "metadata": {},
   "source": [
    "## Function for computing F1"
   ]
  },
  {
   "cell_type": "code",
   "execution_count": 8,
   "metadata": {
    "execution": {
     "iopub.execute_input": "2022-06-02T01:16:51.973285Z",
     "iopub.status.busy": "2022-06-02T01:16:51.972681Z",
     "iopub.status.idle": "2022-06-02T01:16:51.982974Z",
     "shell.execute_reply": "2022-06-02T01:16:51.982162Z",
     "shell.execute_reply.started": "2022-06-02T01:16:51.973165Z"
    },
    "trusted": true
   },
   "outputs": [],
   "source": [
    "def f1_score_from_prob(class_probs, labels, from_gpu=True):\n",
    "    if from_gpu:\n",
    "        class_probs = class_probs.cpu().detach().numpy()\n",
    "        labels = labels.cpu().detach().numpy()\n",
    "    preds = class_probs.argmax(1)\n",
    "    return f1_score(labels, preds, average='macro')"
   ]
  },
  {
   "cell_type": "markdown",
   "metadata": {},
   "source": [
    "## Train step function (single epoch)"
   ]
  },
  {
   "cell_type": "code",
   "execution_count": 9,
   "metadata": {
    "execution": {
     "iopub.execute_input": "2022-06-02T01:16:51.985941Z",
     "iopub.status.busy": "2022-06-02T01:16:51.985619Z",
     "iopub.status.idle": "2022-06-02T01:16:51.995885Z",
     "shell.execute_reply": "2022-06-02T01:16:51.995155Z",
     "shell.execute_reply.started": "2022-06-02T01:16:51.985902Z"
    },
    "trusted": true
   },
   "outputs": [],
   "source": [
    "def train_step(model, loss, optim, scheduler, train_iterator, device):\n",
    "    cumm_epoch_loss = 0\n",
    "    cumm_epoch_f1 = 0\n",
    "        \n",
    "    for data_pair in tqdm(train_iterator):\n",
    "        lyric = data_pair.lyric.to(device)\n",
    "        artist = data_pair.artist.to(device)\n",
    "            \n",
    "        optim.zero_grad()\n",
    "            \n",
    "        pred = model(lyric).to(device)\n",
    "        batch_loss = loss(pred, artist).to(device)\n",
    "        batch_loss.backward()\n",
    "        optim.step()\n",
    "            \n",
    "            \n",
    "        cumm_epoch_loss += batch_loss\n",
    "        cumm_epoch_f1 += f1_score_from_prob(pred, artist, from_gpu=True)\n",
    "    \n",
    "    if scheduler is not None:\n",
    "        scheduler.step()\n",
    "        \n",
    "    epoch_loss = cumm_epoch_loss/len(train_iterator)\n",
    "    epoch_f1 = cumm_epoch_f1/len(train_iterator)\n",
    "    \n",
    "    return epoch_loss, epoch_f1"
   ]
  },
  {
   "cell_type": "markdown",
   "metadata": {},
   "source": [
    "## Validation Function"
   ]
  },
  {
   "cell_type": "code",
   "execution_count": 10,
   "metadata": {
    "execution": {
     "iopub.execute_input": "2022-06-02T01:16:51.997693Z",
     "iopub.status.busy": "2022-06-02T01:16:51.997161Z",
     "iopub.status.idle": "2022-06-02T01:16:52.006172Z",
     "shell.execute_reply": "2022-06-02T01:16:52.005446Z",
     "shell.execute_reply.started": "2022-06-02T01:16:51.997651Z"
    },
    "trusted": true
   },
   "outputs": [],
   "source": [
    "def validate(model, loss, test_iterator, device):\n",
    "    model.eval()\n",
    "    with torch.no_grad():\n",
    "        cumm_loss = 0\n",
    "        cumm_f1 = 0\n",
    "        \n",
    "        for data_pair in test_iterator:\n",
    "            lyric = data_pair.lyric.to(device)\n",
    "            artist = data_pair.artist.to(device)\n",
    "            \n",
    "            pred = model(lyric).to(device)\n",
    "            batch_loss = loss(pred, artist).to(device)\n",
    "            \n",
    "            cumm_loss += batch_loss\n",
    "            cumm_f1 += f1_score_from_prob(pred, artist, from_gpu=True)\n",
    "    \n",
    "    test_loss = cumm_loss/len(test_iterator)\n",
    "    test_f1 = cumm_f1/len(test_iterator)\n",
    "    return test_loss, test_f1"
   ]
  },
  {
   "cell_type": "markdown",
   "metadata": {},
   "source": [
    "## Define Model"
   ]
  },
  {
   "cell_type": "code",
   "execution_count": 11,
   "metadata": {
    "execution": {
     "iopub.execute_input": "2022-06-02T02:14:24.891437Z",
     "iopub.status.busy": "2022-06-02T02:14:24.891149Z",
     "iopub.status.idle": "2022-06-02T02:14:24.939306Z",
     "shell.execute_reply": "2022-06-02T02:14:24.938532Z",
     "shell.execute_reply.started": "2022-06-02T02:14:24.891409Z"
    },
    "trusted": true
   },
   "outputs": [],
   "source": [
    "model = Transformer(embedding_size=64,\n",
    "        src_vocab_size=10000,\n",
    "        num_heads=4,\n",
    "        num_encoder_layers=6,\n",
    "        forward_dim=64,\n",
    "        dropout=0.5,\n",
    "        max_len=1600,\n",
    "        num_classes=41,\n",
    "        device=device)"
   ]
  },
  {
   "cell_type": "markdown",
   "metadata": {},
   "source": [
    "## Training"
   ]
  },
  {
   "cell_type": "code",
   "execution_count": 12,
   "metadata": {
    "execution": {
     "iopub.execute_input": "2022-06-02T02:14:26.469255Z",
     "iopub.status.busy": "2022-06-02T02:14:26.468984Z",
     "iopub.status.idle": "2022-06-02T02:22:09.834055Z",
     "shell.execute_reply": "2022-06-02T02:22:09.833135Z",
     "shell.execute_reply.started": "2022-06-02T02:14:26.469226Z"
    },
    "trusted": true
   },
   "outputs": [
    {
     "name": "stdout",
     "output_type": "stream",
     "text": [
      "Epoch 1/20\n",
      "Epoch 2/20\n",
      "Epoch 3/20\n",
      "Epoch 4/20\n",
      "Epoch 5/20\n",
      "Epoch 6/20\n",
      "Epoch 7/20\n",
      "Epoch 8/20\n",
      "Epoch 9/20\n",
      "Epoch 10/20\n",
      "Epoch 11/20\n",
      "Epoch 12/20\n",
      "Epoch 13/20\n",
      "Epoch 14/20\n",
      "Epoch 15/20\n",
      "Epoch 16/20\n",
      "Epoch 17/20\n",
      "Epoch 18/20\n",
      "Epoch 19/20\n",
      "Epoch 20/20\n"
     ]
    },
    {
     "name": "stderr",
     "output_type": "stream",
     "text": [
      "100%|██████████| 313/313 [02:31<00:00,  2.07it/s]\n",
      "100%|██████████| 313/313 [02:27<00:00,  2.12it/s]\n",
      "100%|██████████| 313/313 [02:26<00:00,  2.13it/s]\n",
      "100%|██████████| 313/313 [02:29<00:00,  2.09it/s]\n",
      "100%|██████████| 313/313 [02:23<00:00,  2.18it/s]\n",
      "100%|██████████| 313/313 [02:25<00:00,  2.15it/s]\n",
      "100%|██████████| 313/313 [02:25<00:00,  2.16it/s]\n",
      "100%|██████████| 313/313 [02:23<00:00,  2.18it/s]\n",
      "100%|██████████| 313/313 [02:26<00:00,  2.13it/s]\n",
      "100%|██████████| 313/313 [02:29<00:00,  2.10it/s]\n",
      "100%|██████████| 313/313 [02:25<00:00,  2.16it/s]\n",
      "100%|██████████| 313/313 [02:28<00:00,  2.10it/s]\n",
      "100%|██████████| 313/313 [02:30<00:00,  2.08it/s]\n",
      "100%|██████████| 313/313 [02:28<00:00,  2.11it/s]\n",
      "100%|██████████| 313/313 [02:31<00:00,  2.07it/s]\n",
      "100%|██████████| 313/313 [02:25<00:00,  2.15it/s]\n",
      "100%|██████████| 313/313 [02:31<00:00,  2.07it/s]\n",
      "100%|██████████| 313/313 [02:29<00:00,  2.10it/s]\n",
      "100%|██████████| 313/313 [02:31<00:00,  2.07it/s]\n",
      "100%|██████████| 313/313 [02:29<00:00,  2.10it/s]\n"
     ]
    }
   ],
   "source": [
    "verbose = False\n",
    "\n",
    "optim = torch.optim.Adam(model.parameters(), lr=3e-4, weight_decay=8e-4) \n",
    "scheduler = None\n",
    "loss = nn.CrossEntropyLoss()\n",
    "    \n",
    "train_losses = []\n",
    "train_f1s = []\n",
    "    \n",
    "test_losses = []\n",
    "test_f1s = []\n",
    "\n",
    "epochs = 20 \n",
    "for epoch in range(epochs):\n",
    "    print(f'Epoch {epoch+1}/{epochs}')\n",
    "    model.train()\n",
    "    epoch_loss, epoch_f1 = train_step(model, loss, optim, scheduler, train_iterator, device)\n",
    "    test_loss, test_f1 = validate(model, loss, test_iterator, device)\n",
    "        \n",
    "    train_losses.append(epoch_loss.cpu().detach().numpy())\n",
    "    train_f1s.append(epoch_f1)\n",
    "    test_losses.append(test_loss.cpu().detach().numpy())\n",
    "    test_f1s.append(test_f1)\n",
    "        \n",
    "    if verbose:\n",
    "        print(f'Train Loss: {epoch_loss}')\n",
    "        print(f'Train F1 Score: {epoch_f1}')\n",
    "        print(f'Test Loss: {test_loss}')\n",
    "        print(f'Test F1 Score: {test_f1}')\n"
   ]
  },
  {
   "cell_type": "markdown",
   "metadata": {},
   "source": [
    "## Train and Test Loss + Metrics"
   ]
  },
  {
   "cell_type": "code",
   "execution_count": 13,
   "metadata": {
    "execution": {
     "iopub.execute_input": "2022-06-02T02:22:15.079420Z",
     "iopub.status.busy": "2022-06-02T02:22:15.079138Z",
     "iopub.status.idle": "2022-06-02T02:22:15.305151Z",
     "shell.execute_reply": "2022-06-02T02:22:15.304345Z",
     "shell.execute_reply.started": "2022-06-02T02:22:15.079391Z"
    },
    "trusted": true
   },
   "outputs": [
    {
     "data": {
      "text/plain": [
       "<matplotlib.legend.Legend at 0x7f6bc3402eb8>"
      ]
     },
     "execution_count": 13,
     "metadata": {},
     "output_type": "execute_result"
    },
    {
     "data": {
      "image/png": "[encoded data removed]",
      "text/plain": [
       "<Figure size 432x288 with 1 Axes>"
      ]
     },
     "metadata": {
      "needs_background": "light"
     },
     "output_type": "display_data"
    }
   ],
   "source": [
    "plt.plot(train_losses, label='Train')\n",
    "plt.plot(test_losses, label='Test')\n",
    "plt.legend()"
   ]
  },
  {
   "cell_type": "code",
   "execution_count": 14,
   "metadata": {
    "execution": {
     "iopub.execute_input": "2022-06-02T02:22:17.842277Z",
     "iopub.status.busy": "2022-06-02T02:22:17.841878Z",
     "iopub.status.idle": "2022-06-02T02:22:18.082746Z",
     "shell.execute_reply": "2022-06-02T02:22:18.082065Z",
     "shell.execute_reply.started": "2022-06-02T02:22:17.842243Z"
    },
    "trusted": true
   },
   "outputs": [
    {
     "data": {
      "text/plain": [
       "<matplotlib.legend.Legend at 0x7f6b9189d438>"
      ]
     },
     "execution_count": 14,
     "metadata": {},
     "output_type": "execute_result"
    },
    {
     "data": {
      "image/png": "[encoded data removed]",
      "text/plain": [
       "<Figure size 432x288 with 1 Axes>"
      ]
     },
     "metadata": {
      "needs_background": "light"
     },
     "output_type": "display_data"
    }
   ],
   "source": [
    "plt.plot(train_f1s, label='Train')\n",
    "plt.plot(test_f1s, label='Test')\n",
    "plt.legend()"
   ]
  },
  {
   "cell_type": "code",
   "execution_count": 17,
   "metadata": {
    "execution": {
     "iopub.execute_input": "2022-06-02T02:22:22.836248Z",
     "iopub.status.busy": "2022-06-02T02:22:22.835736Z",
     "iopub.status.idle": "2022-06-02T02:22:24.992804Z",
     "shell.execute_reply": "2022-06-02T02:22:24.992063Z",
     "shell.execute_reply.started": "2022-06-02T02:22:22.836209Z"
    },
    "trusted": true
   },
   "outputs": [],
   "source": [
    "def get_preds_targets(data_iterator, model, device):\n",
    "    preds = torch.Tensor().to(device)\n",
    "    targets = torch.Tensor().to(device)\n",
    "    \n",
    "    with torch.no_grad():\n",
    "        for data_pair in data_iterator:\n",
    "            lyric = data_pair.lyric.to(device)\n",
    "            target = data_pair.artist.to(device)\n",
    "            pred = model(lyric).to(device)\n",
    "            \n",
    "            preds = torch.cat((preds, pred), 0)\n",
    "            targets = torch.cat((targets, target), 0)\n",
    "    \n",
    "    preds = preds.argmax(1)\n",
    "    preds = preds.cpu().detach().numpy()\n",
    "    targets = targets.cpu().detach().numpy()\n",
    "    \n",
    "    return preds, targets\n",
    "    \n",
    "train_preds, train_targets = get_preds_targets(train_iterator, model, device)\n",
    "test_preds, test_targets = get_preds_targets(test_iterator, model, device)"
   ]
  },
  {
   "cell_type": "code",
   "execution_count": 18,
   "metadata": {
    "execution": {
     "iopub.execute_input": "2022-06-02T02:22:24.994899Z",
     "iopub.status.busy": "2022-06-02T02:22:24.994610Z",
     "iopub.status.idle": "2022-06-02T02:22:27.827664Z",
     "shell.execute_reply": "2022-06-02T02:22:27.826844Z",
     "shell.execute_reply.started": "2022-06-02T02:22:24.994860Z"
    },
    "trusted": true
   },
   "outputs": [
    {
     "name": "stdout",
     "output_type": "stream",
     "text": [
      "Train Loss: 3.2704055309295654\n",
      "Train F1 Score: 0.05094567471678378\n",
      "Train Acc: 0.10528422738190553\n",
      "Test Loss: 3.3735909461975098\n",
      "Test F1 Score: 0.052619909802745626\n",
      "Test Acc: 0.1\n"
     ]
    }
   ],
   "source": [
    "test_loss, test_f1 = validate(model, loss, test_iterator, device)\n",
    "train_loss, train_f1 = validate(model, loss, train_iterator, device)\n",
    "train_acc, test_acc = accuracy_score(train_targets, train_preds), accuracy_score(test_targets, test_preds)\n",
    "\n",
    "print(f\"Train Loss: {train_loss}\")\n",
    "print(f\"Train F1 Score: {train_f1}\")\n",
    "print(f\"Train Acc: {train_acc}\")\n",
    "print(f\"Test Loss: {test_loss}\")\n",
    "print(f\"Test F1 Score: {test_f1}\")\n",
    "print(f\"Test Acc: {test_acc}\")"
   ]
  },
  {
   "cell_type": "code",
   "execution_count": 19,
   "metadata": {
    "execution": {
     "iopub.execute_input": "2022-06-02T02:24:37.687534Z",
     "iopub.status.busy": "2022-06-02T02:24:37.687264Z",
     "iopub.status.idle": "2022-06-02T02:24:37.971730Z",
     "shell.execute_reply": "2022-06-02T02:24:37.970961Z",
     "shell.execute_reply.started": "2022-06-02T02:24:37.687504Z"
    },
    "trusted": true
   },
   "outputs": [
    {
     "data": {
      "text/plain": [
       "<sklearn.metrics._plot.confusion_matrix.ConfusionMatrixDisplay at 0x7f6b61fcf2e8>"
      ]
     },
     "execution_count": 19,
     "metadata": {},
     "output_type": "execute_result"
    },
    {
     "data": {
      "image/png": "[encoded data removed]",
      "text/plain": [
       "<Figure size 432x288 with 2 Axes>"
      ]
     },
     "metadata": {
      "needs_background": "light"
     },
     "output_type": "display_data"
    }
   ],
   "source": [
    "cm = confusion_matrix(test_targets, test_preds)\n",
    "cm_display = ConfusionMatrixDisplay(cm)\n",
    "cm_display.plot()"
   ]
  }
 ],
 "metadata": {
  "interpreter": {
   "hash": "97fc7d31af585dc1705a023300ddbd5d6c5010169e25163fccf9925dbb76a6c8"
  },
  "kernelspec": {
   "display_name": "Python 3.8.8 64-bit",
   "language": "python",
   "name": "python3"
  },
  "language_info": {
   "codemirror_mode": {
    "name": "ipython",
    "version": 3
   },
   "file_extension": ".py",
   "mimetype": "text/x-python",
   "name": "python",
   "nbconvert_exporter": "python",
   "pygments_lexer": "ipython3",
   "version": "3.8.8"
  }
 },
 "nbformat": 4,
 "nbformat_minor": 4
}
