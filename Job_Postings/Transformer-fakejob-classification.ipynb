{
 "cells": [
  {
   "cell_type": "code",
   "execution_count": 1,
   "metadata": {
    "_cell_guid": "b1076dfc-b9ad-4769-8c92-a6c4dae69d19",
    "_uuid": "8f2839f25d086af736a60e9eeb907d3b93b6e0e5",
    "execution": {
     "iopub.execute_input": "2022-06-02T02:23:59.444594Z",
     "iopub.status.busy": "2022-06-02T02:23:59.444305Z",
     "iopub.status.idle": "2022-06-02T02:23:59.450219Z",
     "shell.execute_reply": "2022-06-02T02:23:59.449105Z",
     "shell.execute_reply.started": "2022-06-02T02:23:59.444551Z"
    },
    "trusted": true
   },
   "outputs": [],
   "source": [
    "import torch\n",
    "import torch.nn as nn\n",
    "import torch.optim as optim\n",
    "import spacy\n",
    "from torchtext.legacy.data import Field, TabularDataset, BucketIterator\n",
    "from tqdm import tqdm\n",
    "import pandas as pd\n",
    "from sklearn.metrics import f1_score, confusion_matrix, accuracy_score, ConfusionMatrixDisplay\n",
    "from tqdm import tqdm\n",
    "import matplotlib.pyplot as plt"
   ]
  },
  {
   "cell_type": "code",
   "execution_count": 2,
   "metadata": {
    "execution": {
     "iopub.execute_input": "2022-06-02T01:16:18.226575Z",
     "iopub.status.busy": "2022-06-02T01:16:18.226309Z",
     "iopub.status.idle": "2022-06-02T01:16:47.217712Z",
     "shell.execute_reply": "2022-06-02T01:16:47.216762Z",
     "shell.execute_reply.started": "2022-06-02T01:16:18.226538Z"
    },
    "trusted": true
   },
   "outputs": [
    {
     "name": "stdout",
     "output_type": "stream",
     "text": [
      "\u001B[38;5;3m⚠ As of spaCy v3.0, shortcuts like 'en' are deprecated. Please use the\r\n",
      "full pipeline package name 'en_core_web_sm' instead.\u001B[0m\r\n",
      "Collecting en-core-web-sm==3.3.0\r\n",
      "  Downloading https://github.com/explosion/spacy-models/releases/download/en_core_web_sm-3.3.0/en_core_web_sm-3.3.0-py3-none-any.whl (12.8 MB)\r\n",
      "\u001B[K     |████████████████████████████████| 12.8 MB 6.9 MB/s eta 0:00:01\r\n",
      "\u001B[?25hRequirement already satisfied: spacy<3.4.0,>=3.3.0.dev0 in /home/agent006/anaconda3/envs/nlp_temp/lib/python3.9/site-packages (from en-core-web-sm==3.3.0) (3.3.0)\r\n",
      "Requirement already satisfied: jinja2 in /home/agent006/anaconda3/envs/nlp_temp/lib/python3.9/site-packages (from spacy<3.4.0,>=3.3.0.dev0->en-core-web-sm==3.3.0) (2.11.3)\r\n",
      "Requirement already satisfied: pydantic!=1.8,!=1.8.1,<1.9.0,>=1.7.4 in /home/agent006/anaconda3/envs/nlp_temp/lib/python3.9/site-packages (from spacy<3.4.0,>=3.3.0.dev0->en-core-web-sm==3.3.0) (1.8.2)\r\n",
      "Requirement already satisfied: pathy>=0.3.5 in /home/agent006/anaconda3/envs/nlp_temp/lib/python3.9/site-packages (from spacy<3.4.0,>=3.3.0.dev0->en-core-web-sm==3.3.0) (0.6.1)\r\n",
      "Requirement already satisfied: tqdm<5.0.0,>=4.38.0 in /home/agent006/anaconda3/envs/nlp_temp/lib/python3.9/site-packages (from spacy<3.4.0,>=3.3.0.dev0->en-core-web-sm==3.3.0) (4.64.0)\r\n",
      "Requirement already satisfied: cymem<2.1.0,>=2.0.2 in /home/agent006/anaconda3/envs/nlp_temp/lib/python3.9/site-packages (from spacy<3.4.0,>=3.3.0.dev0->en-core-web-sm==3.3.0) (2.0.6)\r\n",
      "Requirement already satisfied: srsly<3.0.0,>=2.4.3 in /home/agent006/anaconda3/envs/nlp_temp/lib/python3.9/site-packages (from spacy<3.4.0,>=3.3.0.dev0->en-core-web-sm==3.3.0) (2.4.3)\r\n",
      "Requirement already satisfied: numpy>=1.15.0 in /home/agent006/anaconda3/envs/nlp_temp/lib/python3.9/site-packages (from spacy<3.4.0,>=3.3.0.dev0->en-core-web-sm==3.3.0) (1.21.5)\r\n",
      "Requirement already satisfied: langcodes<4.0.0,>=3.2.0 in /home/agent006/anaconda3/envs/nlp_temp/lib/python3.9/site-packages (from spacy<3.4.0,>=3.3.0.dev0->en-core-web-sm==3.3.0) (3.3.0)\r\n",
      "Requirement already satisfied: wasabi<1.1.0,>=0.9.1 in /home/agent006/anaconda3/envs/nlp_temp/lib/python3.9/site-packages (from spacy<3.4.0,>=3.3.0.dev0->en-core-web-sm==3.3.0) (0.9.1)\r\n",
      "Requirement already satisfied: packaging>=20.0 in /home/agent006/anaconda3/envs/nlp_temp/lib/python3.9/site-packages (from spacy<3.4.0,>=3.3.0.dev0->en-core-web-sm==3.3.0) (21.3)\r\n",
      "Requirement already satisfied: requests<3.0.0,>=2.13.0 in /home/agent006/anaconda3/envs/nlp_temp/lib/python3.9/site-packages (from spacy<3.4.0,>=3.3.0.dev0->en-core-web-sm==3.3.0) (2.27.1)\r\n",
      "Requirement already satisfied: spacy-loggers<2.0.0,>=1.0.0 in /home/agent006/anaconda3/envs/nlp_temp/lib/python3.9/site-packages (from spacy<3.4.0,>=3.3.0.dev0->en-core-web-sm==3.3.0) (1.0.2)\r\n",
      "Requirement already satisfied: blis<0.8.0,>=0.4.0 in /home/agent006/anaconda3/envs/nlp_temp/lib/python3.9/site-packages (from spacy<3.4.0,>=3.3.0.dev0->en-core-web-sm==3.3.0) (0.7.7)\r\n",
      "Requirement already satisfied: spacy-legacy<3.1.0,>=3.0.9 in /home/agent006/anaconda3/envs/nlp_temp/lib/python3.9/site-packages (from spacy<3.4.0,>=3.3.0.dev0->en-core-web-sm==3.3.0) (3.0.9)\r\n",
      "Requirement already satisfied: typer<0.5.0,>=0.3.0 in /home/agent006/anaconda3/envs/nlp_temp/lib/python3.9/site-packages (from spacy<3.4.0,>=3.3.0.dev0->en-core-web-sm==3.3.0) (0.4.1)\r\n",
      "Requirement already satisfied: catalogue<2.1.0,>=2.0.6 in /home/agent006/anaconda3/envs/nlp_temp/lib/python3.9/site-packages (from spacy<3.4.0,>=3.3.0.dev0->en-core-web-sm==3.3.0) (2.0.7)\r\n",
      "Requirement already satisfied: thinc<8.1.0,>=8.0.14 in /home/agent006/anaconda3/envs/nlp_temp/lib/python3.9/site-packages (from spacy<3.4.0,>=3.3.0.dev0->en-core-web-sm==3.3.0) (8.0.17)\r\n",
      "Requirement already satisfied: setuptools in /home/agent006/anaconda3/envs/nlp_temp/lib/python3.9/site-packages (from spacy<3.4.0,>=3.3.0.dev0->en-core-web-sm==3.3.0) (61.2.0)\r\n",
      "Requirement already satisfied: murmurhash<1.1.0,>=0.28.0 in /home/agent006/anaconda3/envs/nlp_temp/lib/python3.9/site-packages (from spacy<3.4.0,>=3.3.0.dev0->en-core-web-sm==3.3.0) (1.0.7)\r\n",
      "Requirement already satisfied: preshed<3.1.0,>=3.0.2 in /home/agent006/anaconda3/envs/nlp_temp/lib/python3.9/site-packages (from spacy<3.4.0,>=3.3.0.dev0->en-core-web-sm==3.3.0) (3.0.6)\r\n",
      "Requirement already satisfied: pyparsing!=3.0.5,>=2.0.2 in /home/agent006/anaconda3/envs/nlp_temp/lib/python3.9/site-packages (from packaging>=20.0->spacy<3.4.0,>=3.3.0.dev0->en-core-web-sm==3.3.0) (3.0.4)\r\n",
      "Requirement already satisfied: smart-open<6.0.0,>=5.0.0 in /home/agent006/anaconda3/envs/nlp_temp/lib/python3.9/site-packages (from pathy>=0.3.5->spacy<3.4.0,>=3.3.0.dev0->en-core-web-sm==3.3.0) (5.1.0)\r\n",
      "Requirement already satisfied: typing-extensions>=3.7.4.3 in /home/agent006/anaconda3/envs/nlp_temp/lib/python3.9/site-packages (from pydantic!=1.8,!=1.8.1,<1.9.0,>=1.7.4->spacy<3.4.0,>=3.3.0.dev0->en-core-web-sm==3.3.0) (4.1.1)\r\n",
      "Requirement already satisfied: urllib3<1.27,>=1.21.1 in /home/agent006/anaconda3/envs/nlp_temp/lib/python3.9/site-packages (from requests<3.0.0,>=2.13.0->spacy<3.4.0,>=3.3.0.dev0->en-core-web-sm==3.3.0) (1.26.9)\r\n",
      "Requirement already satisfied: idna<4,>=2.5 in /home/agent006/anaconda3/envs/nlp_temp/lib/python3.9/site-packages (from requests<3.0.0,>=2.13.0->spacy<3.4.0,>=3.3.0.dev0->en-core-web-sm==3.3.0) (3.3)\r\n",
      "Requirement already satisfied: certifi>=2017.4.17 in /home/agent006/anaconda3/envs/nlp_temp/lib/python3.9/site-packages (from requests<3.0.0,>=2.13.0->spacy<3.4.0,>=3.3.0.dev0->en-core-web-sm==3.3.0) (2021.10.8)\r\n",
      "Requirement already satisfied: charset-normalizer~=2.0.0 in /home/agent006/anaconda3/envs/nlp_temp/lib/python3.9/site-packages (from requests<3.0.0,>=2.13.0->spacy<3.4.0,>=3.3.0.dev0->en-core-web-sm==3.3.0) (2.0.4)\r\n",
      "Requirement already satisfied: click<9.0.0,>=7.1.1 in /home/agent006/anaconda3/envs/nlp_temp/lib/python3.9/site-packages (from typer<0.5.0,>=0.3.0->spacy<3.4.0,>=3.3.0.dev0->en-core-web-sm==3.3.0) (8.0.4)\r\n",
      "Requirement already satisfied: MarkupSafe>=0.23 in /home/agent006/anaconda3/envs/nlp_temp/lib/python3.9/site-packages (from jinja2->spacy<3.4.0,>=3.3.0.dev0->en-core-web-sm==3.3.0) (2.0.1)\r\n",
      "\u001B[38;5;2m✔ Download and installation successful\u001B[0m\r\n",
      "You can now load the package via spacy.load('en_core_web_sm')\r\n"
     ]
    }
   ],
   "source": [
    "!python -m spacy download en"
   ]
  },
  {
   "cell_type": "markdown",
   "metadata": {},
   "source": [
    "### Starter code from aladdinpersson's Machine Learning Collection\n",
    "* [Transformer Code](https://github.com/aladdinpersson/Machine-Learning-Collection/blob/master/ML/Pytorch/more_advanced/seq2seq_transformer/seq2seq_transformer.py)\n",
    "\n",
    "* [Creating Dataset](https://github.com/aladdinpersson/Machine-Learning-Collection/blob/master/ML/Pytorch/more_advanced/torchtext/torchtext_tutorial1.py)"
   ]
  },
  {
   "cell_type": "markdown",
   "metadata": {},
   "source": [
    "## Tokenizer"
   ]
  },
  {
   "cell_type": "code",
   "execution_count": 3,
   "metadata": {
    "execution": {
     "iopub.execute_input": "2022-06-02T01:16:47.221071Z",
     "iopub.status.busy": "2022-06-02T01:16:47.220600Z",
     "iopub.status.idle": "2022-06-02T01:16:48.036830Z",
     "shell.execute_reply": "2022-06-02T01:16:48.036009Z",
     "shell.execute_reply.started": "2022-06-02T01:16:47.221029Z"
    },
    "trusted": true
   },
   "outputs": [],
   "source": [
    "spacy_eng = spacy.load(\"en_core_web_sm\")\n",
    "def tokenize_eng(text):\n",
    "    return [tok.text for tok in spacy_eng.tokenizer(text)]"
   ]
  },
  {
   "cell_type": "markdown",
   "metadata": {},
   "source": [
    "## Split Dataset into Train and Test splits"
   ]
  },
  {
   "cell_type": "code",
   "execution_count": 4,
   "metadata": {},
   "outputs": [],
   "source": [
    "from numpy.random import RandomState\n",
    "\n",
    "df = pd.read_csv('fakejob.csv')\n",
    "df['artist'] = df['artist'].astype('category')\n",
    "idx_to_cat = dict(enumerate(df['artist'].cat.categories))\n",
    "cat_columns = df.select_dtypes(['category']).columns\n",
    "df[cat_columns] = df[cat_columns].apply(lambda x: x.cat.codes)\n",
    "\n",
    "rng = RandomState()\n",
    "tr = df.sample(frac=0.8, random_state=rng)\n",
    "tst = df.loc[~df.index.isin(tr.index)]\n",
    "tr.to_csv('train.csv', index=False)\n",
    "tst.to_csv('valid.csv', index=False)"
   ]
  },
  {
   "cell_type": "markdown",
   "metadata": {},
   "source": [
    "# Train and Test iterators"
   ]
  },
  {
   "cell_type": "code",
   "execution_count": 5,
   "metadata": {
    "execution": {
     "iopub.execute_input": "2022-06-02T01:16:48.374796Z",
     "iopub.status.busy": "2022-06-02T01:16:48.374549Z",
     "iopub.status.idle": "2022-06-02T01:16:51.933697Z",
     "shell.execute_reply": "2022-06-02T01:16:51.932978Z",
     "shell.execute_reply.started": "2022-06-02T01:16:48.374762Z"
    },
    "trusted": true
   },
   "outputs": [],
   "source": [
    "lyric = Field(sequential=True, use_vocab=True, tokenize=tokenize_eng, lower=True, init_token=\"<sos>\", eos_token=\"<eos>\")\n",
    "artist = Field(sequential=False, use_vocab=False)\n",
    "\n",
    "fields = {\"text\": (\"lyric\", lyric), \"artist\": (\"artist\", artist)}\n",
    "\n",
    "train_data, test_data = TabularDataset.splits(\n",
    "    path=\"./\",\n",
    "    train=\"train.csv\", test=\"valid.csv\",\n",
    "    format=\"csv\", fields=fields\n",
    ")\n",
    "\n",
    "lyric.build_vocab(train_data, max_size=10000, min_freq=2)"
   ]
  },
  {
   "cell_type": "code",
   "execution_count": 6,
   "metadata": {
    "execution": {
     "iopub.execute_input": "2022-06-02T01:16:51.935381Z",
     "iopub.status.busy": "2022-06-02T01:16:51.935142Z",
     "iopub.status.idle": "2022-06-02T01:16:51.942503Z",
     "shell.execute_reply": "2022-06-02T01:16:51.941670Z",
     "shell.execute_reply.started": "2022-06-02T01:16:51.935348Z"
    },
    "trusted": true
   },
   "outputs": [],
   "source": [
    "device = torch.device(\"cuda\" if torch.cuda.is_available() else \"cpu\")\n",
    "#device = torch.device(\"cpu\")\n",
    "batch_size = 4\n",
    "\n",
    "train_iterator, test_iterator = BucketIterator.splits(\n",
    "    (train_data, test_data), batch_size=batch_size, device=device, sort=False\n",
    ")"
   ]
  },
  {
   "cell_type": "markdown",
   "metadata": {},
   "source": [
    "## Transformer Model"
   ]
  },
  {
   "cell_type": "code",
   "execution_count": 7,
   "metadata": {
    "execution": {
     "iopub.execute_input": "2022-06-02T01:16:51.954728Z",
     "iopub.status.busy": "2022-06-02T01:16:51.954297Z",
     "iopub.status.idle": "2022-06-02T01:16:51.971130Z",
     "shell.execute_reply": "2022-06-02T01:16:51.970287Z",
     "shell.execute_reply.started": "2022-06-02T01:16:51.954688Z"
    },
    "trusted": true
   },
   "outputs": [],
   "source": [
    "class Transformer(nn.Module):\n",
    "    def __init__(\n",
    "        self,\n",
    "        embedding_size,\n",
    "        src_vocab_size,\n",
    "        num_heads,\n",
    "        num_encoder_layers,\n",
    "        forward_dim,\n",
    "        dropout,\n",
    "        max_len,\n",
    "        num_classes,\n",
    "        device,\n",
    "    ):\n",
    "        super(Transformer, self).__init__()\n",
    "        \n",
    "        self.embedding = nn.Embedding(src_vocab_size, embedding_size).to(device)\n",
    "        self.pos_embedding = nn.Embedding(max_len+1, embedding_size).to(device)\n",
    "        # we add +1 to account for the class embedding to be concatenated at the start of the sequence\n",
    "        \n",
    "        cls_token_weights = torch.randn(1, 1, embedding_size).to(device) # initialize class token weights\n",
    "        self.cls_token = nn.Parameter(cls_token_weights).to(device)\n",
    "        \n",
    "        self.device = device\n",
    "        self.transformer_enc_layer = nn.TransformerEncoderLayer(embedding_size, num_heads, forward_dim, dropout).to(device)\n",
    "        self.transformer_enc = nn.TransformerEncoder(self.transformer_enc_layer, num_encoder_layers).to(device)\n",
    "\n",
    "        self.fc_clf = nn.Sequential(\n",
    "            nn.Linear(embedding_size, embedding_size),\n",
    "            nn.SiLU(),\n",
    "            nn.Dropout(dropout),\n",
    "            nn.Linear(embedding_size, embedding_size),\n",
    "            nn.SiLU(),\n",
    "            nn.Dropout(dropout),\n",
    "            nn.Linear(embedding_size, num_classes),\n",
    "        ).to(device)\n",
    "        \n",
    "        \n",
    "        self.dropout = nn.Dropout(dropout)\n",
    "        \n",
    "    def forward(self, src):\n",
    "        seq_length, N = src.shape\n",
    "        \n",
    "        src_positions = torch.arange(0, seq_length+1).unsqueeze(1).expand(seq_length+1, N).to(self.device)\n",
    "        \n",
    "        embed = self.embedding(src).to(self.device)\n",
    "        cls_token_batch = self.cls_token.repeat(1, N, 1).to(self.device)\n",
    "        embed = torch.cat((cls_token_batch, embed), 0).to(self.device)\n",
    "        embed_src = self.dropout(embed + self.pos_embedding(src_positions)).to(self.device)\n",
    "        \n",
    "        out = self.transformer_enc(embed_src).to(self.device)\n",
    "        cls_tokens = out[0, :, :].to(self.device)\n",
    "        out = self.fc_clf(cls_tokens).to(self.device)\n",
    "        return out"
   ]
  },
  {
   "cell_type": "markdown",
   "metadata": {},
   "source": [
    "## Function for computing F1"
   ]
  },
  {
   "cell_type": "code",
   "execution_count": 8,
   "metadata": {
    "execution": {
     "iopub.execute_input": "2022-06-02T01:16:51.973285Z",
     "iopub.status.busy": "2022-06-02T01:16:51.972681Z",
     "iopub.status.idle": "2022-06-02T01:16:51.982974Z",
     "shell.execute_reply": "2022-06-02T01:16:51.982162Z",
     "shell.execute_reply.started": "2022-06-02T01:16:51.973165Z"
    },
    "trusted": true
   },
   "outputs": [],
   "source": [
    "def f1_score_from_prob(class_probs, labels, from_gpu=True):\n",
    "    if from_gpu:\n",
    "        class_probs = class_probs.cpu().detach().numpy()\n",
    "        labels = labels.cpu().detach().numpy()\n",
    "    preds = class_probs.argmax(1)\n",
    "    return f1_score(labels, preds, average='macro')"
   ]
  },
  {
   "cell_type": "markdown",
   "metadata": {},
   "source": [
    "## Train step function (single epoch)"
   ]
  },
  {
   "cell_type": "code",
   "execution_count": 9,
   "metadata": {
    "execution": {
     "iopub.execute_input": "2022-06-02T01:16:51.985941Z",
     "iopub.status.busy": "2022-06-02T01:16:51.985619Z",
     "iopub.status.idle": "2022-06-02T01:16:51.995885Z",
     "shell.execute_reply": "2022-06-02T01:16:51.995155Z",
     "shell.execute_reply.started": "2022-06-02T01:16:51.985902Z"
    },
    "trusted": true
   },
   "outputs": [],
   "source": [
    "def train_step(model, loss, optim, scheduler, train_iterator, device):\n",
    "    cumm_epoch_loss = 0\n",
    "    cumm_epoch_f1 = 0\n",
    "        \n",
    "    for data_pair in tqdm(train_iterator):\n",
    "        lyric = data_pair.lyric.to(device)\n",
    "        artist = data_pair.artist.to(device)\n",
    "            \n",
    "        optim.zero_grad()\n",
    "            \n",
    "        pred = model(lyric).to(device)\n",
    "        batch_loss = loss(pred, artist).to(device)\n",
    "        batch_loss.backward()\n",
    "        optim.step()\n",
    "            \n",
    "            \n",
    "        cumm_epoch_loss += batch_loss\n",
    "        cumm_epoch_f1 += f1_score_from_prob(pred, artist, from_gpu=True)\n",
    "    \n",
    "    if scheduler is not None:\n",
    "        scheduler.step()\n",
    "        \n",
    "    epoch_loss = cumm_epoch_loss/len(train_iterator)\n",
    "    epoch_f1 = cumm_epoch_f1/len(train_iterator)\n",
    "    \n",
    "    return epoch_loss, epoch_f1"
   ]
  },
  {
   "cell_type": "markdown",
   "metadata": {},
   "source": [
    "## Validation Function"
   ]
  },
  {
   "cell_type": "code",
   "execution_count": 10,
   "metadata": {
    "execution": {
     "iopub.execute_input": "2022-06-02T01:16:51.997693Z",
     "iopub.status.busy": "2022-06-02T01:16:51.997161Z",
     "iopub.status.idle": "2022-06-02T01:16:52.006172Z",
     "shell.execute_reply": "2022-06-02T01:16:52.005446Z",
     "shell.execute_reply.started": "2022-06-02T01:16:51.997651Z"
    },
    "trusted": true
   },
   "outputs": [],
   "source": [
    "def validate(model, loss, test_iterator, device):\n",
    "    model.eval()\n",
    "    with torch.no_grad():\n",
    "        cumm_loss = 0\n",
    "        cumm_f1 = 0\n",
    "        \n",
    "        for data_pair in test_iterator:\n",
    "            lyric = data_pair.lyric.to(device)\n",
    "            artist = data_pair.artist.to(device)\n",
    "            \n",
    "            pred = model(lyric).to(device)\n",
    "            batch_loss = loss(pred, artist).to(device)\n",
    "            \n",
    "            cumm_loss += batch_loss\n",
    "            cumm_f1 += f1_score_from_prob(pred, artist, from_gpu=True)\n",
    "    \n",
    "    test_loss = cumm_loss/len(test_iterator)\n",
    "    test_f1 = cumm_f1/len(test_iterator)\n",
    "    return test_loss, test_f1"
   ]
  },
  {
   "cell_type": "markdown",
   "metadata": {},
   "source": [
    "## Define Model"
   ]
  },
  {
   "cell_type": "code",
   "execution_count": 11,
   "metadata": {
    "execution": {
     "iopub.execute_input": "2022-06-02T02:14:24.891437Z",
     "iopub.status.busy": "2022-06-02T02:14:24.891149Z",
     "iopub.status.idle": "2022-06-02T02:14:24.939306Z",
     "shell.execute_reply": "2022-06-02T02:14:24.938532Z",
     "shell.execute_reply.started": "2022-06-02T02:14:24.891409Z"
    },
    "trusted": true
   },
   "outputs": [],
   "source": [
    "model = Transformer(embedding_size=64,\n",
    "        src_vocab_size=18000,\n",
    "        num_heads=4,\n",
    "        num_encoder_layers=6,\n",
    "        forward_dim=64,\n",
    "        dropout=0.5,\n",
    "        max_len=2000,\n",
    "        num_classes=2,\n",
    "        device=device)"
   ]
  },
  {
   "cell_type": "markdown",
   "metadata": {},
   "source": [
    "## Training"
   ]
  },
  {
   "cell_type": "code",
   "execution_count": 12,
   "metadata": {
    "execution": {
     "iopub.execute_input": "2022-06-02T02:14:26.469255Z",
     "iopub.status.busy": "2022-06-02T02:14:26.468984Z",
     "iopub.status.idle": "2022-06-02T02:22:09.834055Z",
     "shell.execute_reply": "2022-06-02T02:22:09.833135Z",
     "shell.execute_reply.started": "2022-06-02T02:14:26.469226Z"
    },
    "trusted": true
   },
   "outputs": [
    {
     "name": "stdout",
     "output_type": "stream",
     "text": [
      "Epoch 1/60\n",
      "Epoch 2/60\n",
      "Epoch 3/60\n",
      "Epoch 4/60\n",
      "Epoch 5/60\n",
      "Epoch 6/60\n",
      "Epoch 7/60\n",
      "Epoch 8/60\n",
      "Epoch 9/60\n",
      "Epoch 10/60\n",
      "Epoch 11/60\n",
      "Epoch 12/60\n",
      "Epoch 13/60\n",
      "Epoch 14/60\n",
      "Epoch 15/60\n",
      "Epoch 16/60\n",
      "Epoch 17/60\n",
      "Epoch 18/60\n",
      "Epoch 19/60\n",
      "Epoch 20/60\n",
      "Epoch 21/60\n",
      "Epoch 22/60\n",
      "Epoch 23/60\n",
      "Epoch 24/60\n",
      "Epoch 25/60\n",
      "Epoch 26/60\n",
      "Epoch 27/60\n",
      "Epoch 28/60\n",
      "Epoch 29/60\n",
      "Epoch 30/60\n",
      "Epoch 31/60\n",
      "Epoch 32/60\n",
      "Epoch 33/60\n",
      "Epoch 34/60\n",
      "Epoch 35/60\n",
      "Epoch 36/60\n",
      "Epoch 37/60\n",
      "Epoch 38/60\n",
      "Epoch 39/60\n",
      "Epoch 40/60\n",
      "Epoch 41/60\n",
      "Epoch 42/60\n",
      "Epoch 43/60\n",
      "Epoch 44/60\n",
      "Epoch 45/60\n",
      "Epoch 46/60\n",
      "Epoch 47/60\n",
      "Epoch 48/60\n",
      "Epoch 49/60\n",
      "Epoch 50/60\n",
      "Epoch 51/60\n",
      "Epoch 52/60\n",
      "Epoch 53/60\n",
      "Epoch 54/60\n",
      "Epoch 55/60\n",
      "Epoch 56/60\n",
      "Epoch 57/60\n",
      "Epoch 58/60\n",
      "Epoch 59/60\n",
      "Epoch 60/60\n"
     ]
    },
    {
     "name": "stderr",
     "output_type": "stream",
     "text": [
      "100%|██████████| 3392/3392 [01:50<00:00, 30.70it/s]\n",
      "100%|██████████| 3392/3392 [01:48<00:00, 31.16it/s]\n",
      "100%|██████████| 3392/3392 [01:50<00:00, 30.79it/s]\n",
      "100%|██████████| 3392/3392 [01:49<00:00, 30.86it/s]\n",
      "100%|██████████| 3392/3392 [01:49<00:00, 31.10it/s]\n",
      "100%|██████████| 3392/3392 [01:50<00:00, 30.80it/s]\n",
      "100%|██████████| 3392/3392 [01:48<00:00, 31.25it/s]\n",
      "100%|██████████| 3392/3392 [01:50<00:00, 30.73it/s]\n",
      "100%|██████████| 3392/3392 [01:49<00:00, 30.85it/s]\n",
      "100%|██████████| 3392/3392 [01:50<00:00, 30.71it/s]\n",
      "100%|██████████| 3392/3392 [01:50<00:00, 30.82it/s]\n",
      "100%|██████████| 3392/3392 [01:49<00:00, 30.98it/s]\n",
      "100%|██████████| 3392/3392 [01:49<00:00, 30.97it/s]\n",
      "100%|██████████| 3392/3392 [01:50<00:00, 30.69it/s]\n",
      "100%|██████████| 3392/3392 [01:50<00:00, 30.67it/s]\n",
      "100%|██████████| 3392/3392 [01:49<00:00, 30.91it/s]\n",
      "100%|██████████| 3392/3392 [01:50<00:00, 30.72it/s]\n",
      "100%|██████████| 3392/3392 [01:50<00:00, 30.62it/s]\n",
      "100%|██████████| 3392/3392 [01:50<00:00, 30.80it/s]\n",
      "100%|██████████| 3392/3392 [01:50<00:00, 30.75it/s]\n",
      "100%|██████████| 3392/3392 [01:49<00:00, 30.97it/s]\n",
      "100%|██████████| 3392/3392 [01:50<00:00, 30.80it/s]\n",
      "100%|██████████| 3392/3392 [01:51<00:00, 30.52it/s]\n",
      "100%|██████████| 3392/3392 [01:50<00:00, 30.69it/s]\n",
      "100%|██████████| 3392/3392 [01:49<00:00, 30.87it/s]\n",
      "100%|██████████| 3392/3392 [01:50<00:00, 30.60it/s]\n",
      "100%|██████████| 3392/3392 [01:50<00:00, 30.80it/s]\n",
      "100%|██████████| 3392/3392 [01:50<00:00, 30.68it/s]\n",
      "100%|██████████| 3392/3392 [01:50<00:00, 30.58it/s]\n",
      "100%|██████████| 3392/3392 [01:49<00:00, 30.94it/s]\n",
      "100%|██████████| 3392/3392 [01:49<00:00, 30.87it/s]\n",
      "100%|██████████| 3392/3392 [01:50<00:00, 30.65it/s]\n",
      "100%|██████████| 3392/3392 [01:50<00:00, 30.56it/s]\n",
      "100%|██████████| 3392/3392 [01:49<00:00, 30.86it/s]\n",
      "100%|██████████| 3392/3392 [01:50<00:00, 30.82it/s]\n",
      "100%|██████████| 3392/3392 [01:50<00:00, 30.66it/s]\n",
      "100%|██████████| 3392/3392 [01:50<00:00, 30.74it/s]\n",
      "100%|██████████| 3392/3392 [01:50<00:00, 30.80it/s]\n",
      "100%|██████████| 3392/3392 [01:50<00:00, 30.74it/s]\n",
      "100%|██████████| 3392/3392 [01:50<00:00, 30.82it/s]\n",
      "100%|██████████| 3392/3392 [01:49<00:00, 31.04it/s]\n",
      "100%|██████████| 3392/3392 [01:50<00:00, 30.74it/s]\n",
      "100%|██████████| 3392/3392 [01:49<00:00, 31.00it/s]\n",
      "100%|██████████| 3392/3392 [01:50<00:00, 30.70it/s]\n",
      "100%|██████████| 3392/3392 [01:51<00:00, 30.48it/s]\n",
      "100%|██████████| 3392/3392 [01:50<00:00, 30.68it/s]\n",
      "100%|██████████| 3392/3392 [01:49<00:00, 30.93it/s]\n",
      "100%|██████████| 3392/3392 [01:50<00:00, 30.82it/s]\n",
      "100%|██████████| 3392/3392 [01:49<00:00, 30.87it/s]\n",
      "100%|██████████| 3392/3392 [01:49<00:00, 31.06it/s]\n",
      "100%|██████████| 3392/3392 [01:50<00:00, 30.62it/s]\n",
      "100%|██████████| 3392/3392 [01:51<00:00, 30.55it/s]\n",
      "100%|██████████| 3392/3392 [01:50<00:00, 30.73it/s]\n",
      "100%|██████████| 3392/3392 [01:50<00:00, 30.71it/s]\n",
      "100%|██████████| 3392/3392 [01:50<00:00, 30.79it/s]\n",
      "100%|██████████| 3392/3392 [01:49<00:00, 30.94it/s]\n",
      "100%|██████████| 3392/3392 [01:50<00:00, 30.71it/s]\n",
      "100%|██████████| 3392/3392 [01:50<00:00, 30.70it/s]\n",
      "100%|██████████| 3392/3392 [01:49<00:00, 31.08it/s]\n",
      "100%|██████████| 3392/3392 [01:49<00:00, 30.86it/s]\n"
     ]
    }
   ],
   "source": [
    "verbose = False\n",
    "torch.cuda.empty_cache()\n",
    "\n",
    "optim = torch.optim.Adam(model.parameters(), lr=3e-4, weight_decay=8e-4) # weight_decay value was picked after trial and error\n",
    "scheduler = None\n",
    "loss = nn.CrossEntropyLoss()\n",
    "    \n",
    "train_losses = []\n",
    "train_f1s = []\n",
    "    \n",
    "test_losses = []\n",
    "test_f1s = []\n",
    "\n",
    "epochs = 60 # after trial and error, 60 epochs seemed to be the sweet spot between bias and variance\n",
    "for epoch in range(epochs):\n",
    "    print(f'Epoch {epoch+1}/{epochs}')\n",
    "    model.train()\n",
    "    epoch_loss, epoch_f1 = train_step(model, loss, optim, scheduler, train_iterator, device)\n",
    "    test_loss, test_f1 = validate(model, loss, test_iterator, device)\n",
    "        \n",
    "    train_losses.append(epoch_loss.cpu().detach().numpy())\n",
    "    train_f1s.append(epoch_f1)\n",
    "    test_losses.append(test_loss.cpu().detach().numpy())\n",
    "    test_f1s.append(test_f1)\n",
    "        \n",
    "    if verbose:\n",
    "        print(f'Train Loss: {epoch_loss}')\n",
    "        print(f'Train F1 Score: {epoch_f1}')\n",
    "        print(f'Test Loss: {test_loss}')\n",
    "        print(f'Test F1 Score: {test_f1}')\n"
   ]
  },
  {
   "cell_type": "markdown",
   "metadata": {},
   "source": [
    "## Train and Test Loss + Metrics"
   ]
  },
  {
   "cell_type": "code",
   "execution_count": 13,
   "metadata": {
    "execution": {
     "iopub.execute_input": "2022-06-02T02:22:15.079420Z",
     "iopub.status.busy": "2022-06-02T02:22:15.079138Z",
     "iopub.status.idle": "2022-06-02T02:22:15.305151Z",
     "shell.execute_reply": "2022-06-02T02:22:15.304345Z",
     "shell.execute_reply.started": "2022-06-02T02:22:15.079391Z"
    },
    "trusted": true
   },
   "outputs": [
    {
     "data": {
      "text/plain": "<matplotlib.legend.Legend at 0x7f86be0e3ac0>"
     },
     "execution_count": 13,
     "metadata": {},
     "output_type": "execute_result"
    },
    {
     "data": {
      "text/plain": "<Figure size 432x288 with 1 Axes>",
      "image/png": "[encoded data removed]"
     },
     "metadata": {
      "needs_background": "light"
     },
     "output_type": "display_data"
    }
   ],
   "source": [
    "plt.plot(train_losses, label='Train')\n",
    "plt.plot(test_losses, label='Test')\n",
    "plt.legend()"
   ]
  },
  {
   "cell_type": "code",
   "execution_count": 14,
   "metadata": {
    "execution": {
     "iopub.execute_input": "2022-06-02T02:22:17.842277Z",
     "iopub.status.busy": "2022-06-02T02:22:17.841878Z",
     "iopub.status.idle": "2022-06-02T02:22:18.082746Z",
     "shell.execute_reply": "2022-06-02T02:22:18.082065Z",
     "shell.execute_reply.started": "2022-06-02T02:22:17.842243Z"
    },
    "trusted": true
   },
   "outputs": [
    {
     "data": {
      "text/plain": "<matplotlib.legend.Legend at 0x7f86be07b760>"
     },
     "execution_count": 14,
     "metadata": {},
     "output_type": "execute_result"
    },
    {
     "data": {
      "text/plain": "<Figure size 432x288 with 1 Axes>",
      "image/png": "[encoded data removed]"
     },
     "metadata": {
      "needs_background": "light"
     },
     "output_type": "display_data"
    }
   ],
   "source": [
    "plt.plot(train_f1s, label='Train')\n",
    "plt.plot(test_f1s, label='Test')\n",
    "plt.legend()"
   ]
  },
  {
   "cell_type": "code",
   "execution_count": 15,
   "metadata": {
    "execution": {
     "iopub.execute_input": "2022-06-02T02:22:22.836248Z",
     "iopub.status.busy": "2022-06-02T02:22:22.835736Z",
     "iopub.status.idle": "2022-06-02T02:22:24.992804Z",
     "shell.execute_reply": "2022-06-02T02:22:24.992063Z",
     "shell.execute_reply.started": "2022-06-02T02:22:22.836209Z"
    },
    "trusted": true
   },
   "outputs": [],
   "source": [
    "def get_preds_targets(data_iterator, model, device):\n",
    "    preds = torch.Tensor().to(device)\n",
    "    targets = torch.Tensor().to(device)\n",
    "    \n",
    "    with torch.no_grad():\n",
    "        for data_pair in data_iterator:\n",
    "            lyric = data_pair.lyric.to(device)\n",
    "            target = data_pair.artist.to(device)\n",
    "            pred = model(lyric).to(device)\n",
    "            \n",
    "            preds = torch.cat((preds, pred), 0)\n",
    "            targets = torch.cat((targets, target), 0)\n",
    "    \n",
    "    preds = preds.argmax(1)\n",
    "    preds = preds.cpu().detach().numpy()\n",
    "    targets = targets.cpu().detach().numpy()\n",
    "    \n",
    "    return preds, targets\n",
    "    \n",
    "train_preds, train_targets = get_preds_targets(train_iterator, model, device)\n",
    "test_preds, test_targets = get_preds_targets(test_iterator, model, device)"
   ]
  },
  {
   "cell_type": "code",
   "execution_count": 16,
   "metadata": {
    "execution": {
     "iopub.execute_input": "2022-06-02T02:22:24.994899Z",
     "iopub.status.busy": "2022-06-02T02:22:24.994610Z",
     "iopub.status.idle": "2022-06-02T02:22:27.827664Z",
     "shell.execute_reply": "2022-06-02T02:22:27.826844Z",
     "shell.execute_reply.started": "2022-06-02T02:22:24.994860Z"
    },
    "trusted": true
   },
   "outputs": [
    {
     "name": "stdout",
     "output_type": "stream",
     "text": [
      "Train Loss: 0.08360596001148224\n",
      "Train F1 Score: 0.9742124326145557\n",
      "Train Acc: 0.987838136655119\n",
      "Test Loss: 0.16125723719596863\n",
      "Test F1 Score: 0.961994609164421\n",
      "Test Acc: 0.9814268867924528\n"
     ]
    }
   ],
   "source": [
    "test_loss, test_f1 = validate(model, loss, test_iterator, device)\n",
    "train_loss, train_f1 = validate(model, loss, train_iterator, device)\n",
    "train_acc, test_acc = accuracy_score(train_targets, train_preds), accuracy_score(test_targets, test_preds)\n",
    "\n",
    "print(f\"Train Loss: {train_loss}\")\n",
    "print(f\"Train F1 Score: {train_f1}\")\n",
    "print(f\"Train Acc: {train_acc}\")\n",
    "print(f\"Test Loss: {test_loss}\")\n",
    "print(f\"Test F1 Score: {test_f1}\")\n",
    "print(f\"Test Acc: {test_acc}\")"
   ]
  },
  {
   "cell_type": "code",
   "execution_count": 17,
   "metadata": {
    "execution": {
     "iopub.execute_input": "2022-06-02T02:24:37.687534Z",
     "iopub.status.busy": "2022-06-02T02:24:37.687264Z",
     "iopub.status.idle": "2022-06-02T02:24:37.971730Z",
     "shell.execute_reply": "2022-06-02T02:24:37.970961Z",
     "shell.execute_reply.started": "2022-06-02T02:24:37.687504Z"
    },
    "trusted": true
   },
   "outputs": [
    {
     "data": {
      "text/plain": "<sklearn.metrics._plot.confusion_matrix.ConfusionMatrixDisplay at 0x7f86be348490>"
     },
     "execution_count": 17,
     "metadata": {},
     "output_type": "execute_result"
    },
    {
     "data": {
      "text/plain": "<Figure size 432x288 with 2 Axes>",
      "image/png": "[encoded data removed]"
     },
     "metadata": {
      "needs_background": "light"
     },
     "output_type": "display_data"
    }
   ],
   "source": [
    "cm = confusion_matrix(test_targets, test_preds)\n",
    "cm_display = ConfusionMatrixDisplay(cm)\n",
    "cm_display.plot()"
   ]
  }
 ],
 "metadata": {
  "interpreter": {
   "hash": "97fc7d31af585dc1705a023300ddbd5d6c5010169e25163fccf9925dbb76a6c8"
  },
  "kernelspec": {
   "display_name": "Python 3.8.8 64-bit",
   "language": "python",
   "name": "python3"
  },
  "language_info": {
   "codemirror_mode": {
    "name": "ipython",
    "version": 3
   },
   "file_extension": ".py",
   "mimetype": "text/x-python",
   "name": "python",
   "nbconvert_exporter": "python",
   "pygments_lexer": "ipython3",
   "version": "3.9.12"
  }
 },
 "nbformat": 4,
 "nbformat_minor": 4
}